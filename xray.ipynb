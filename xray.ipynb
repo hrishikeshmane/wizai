{
  "nbformat": 4,
  "nbformat_minor": 0,
  "metadata": {
    "colab": {
      "name": "xray.ipynb",
      "provenance": [],
      "collapsed_sections": [],
      "include_colab_link": true
    },
    "kernelspec": {
      "name": "python3",
      "display_name": "Python 3"
    },
    "accelerator": "GPU"
  },
  "cells": [
    {
      "cell_type": "markdown",
      "metadata": {
        "id": "view-in-github",
        "colab_type": "text"
      },
      "source": [
        "<a href=\"https://colab.research.google.com/github/hrishikeshmane/wizai/blob/master/xray.ipynb\" target=\"_parent\"><img src=\"https://colab.research.google.com/assets/colab-badge.svg\" alt=\"Open In Colab\"/></a>"
      ]
    },
    {
      "cell_type": "code",
      "metadata": {
        "id": "HUt1vGzR44PA",
        "colab_type": "code",
        "colab": {
          "base_uri": "https://localhost:8080/",
          "height": 204
        },
        "outputId": "37c07b4c-4360-40a4-e748-c1844c1110fe"
      },
      "source": [
        "!unzip /content/download?shared_link=https:%2F%2Fnihcc.app.box.com%2Fv%2FChestXray-NIHCC"
      ],
      "execution_count": 8,
      "outputs": [
        {
          "output_type": "stream",
          "text": [
            "Archive:  /content/download?shared_link=https:%2F%2Fnihcc.app.box.com%2Fv%2FChestXray-NIHCC\n",
            "  End-of-central-directory signature not found.  Either this file is not\n",
            "  a zipfile, or it constitutes one disk of a multi-part archive.  In the\n",
            "  latter case the central directory and zipfile comment will be found on\n",
            "  the last disk(s) of this archive.\n",
            "unzip:  cannot find zipfile directory in one of /content/download?shared_link=https:%2F%2Fnihcc.app.box.com%2Fv%2FChestXray-NIHCC or\n",
            "        /content/download?shared_link=https:%2F%2Fnihcc.app.box.com%2Fv%2FChestXray-NIHCC.zip, and cannot find /content/download?shared_link=https:%2F%2Fnihcc.app.box.com%2Fv%2FChestXray-NIHCC.ZIP, period.\n",
            "\n",
            "No zipfiles found.\n"
          ],
          "name": "stdout"
        }
      ]
    },
    {
      "cell_type": "code",
      "metadata": {
        "id": "sMx9w11a_Z4_",
        "colab_type": "code",
        "colab": {
          "base_uri": "https://localhost:8080/",
          "height": 353
        },
        "outputId": "b79cc2a8-0d0d-4e64-bff6-509dc687fb07"
      },
      "source": [
        "!wget wget --header 'Host: public.boxcloud.com' --user-agent 'Mozilla/5.0 (Windows NT 10.0; Win64; x64; rv:70.0) Gecko/20100101 Firefox/70.0' --header 'Accept: text/html,application/xhtml+xml,application/xml;q=0.9,*/*;q=0.8' --header 'Accept-Language: en-US,en;q=0.5' --referer 'https://m.box.com/shared_item/https%3A%2F%2Fnihcc.app.box.com%2Fv%2FChestXray-NIHCC/view/219764235225' --header 'Upgrade-Insecure-Requests: 1' 'https://public.boxcloud.com/d/1/b1!TsL2pRqIws1s-owYk3qAlfdGEky-hLy5hTmbrZ00m_kBKDz08YA2Pde7gBLmzG9Iw_GJHOXHPr2_LxZRooJjNcdDT1AqdWivCxT34xafD4dUHp8a6Iia9KFmzYLptp6OiQBQhKARJHb3yMku6DuoRK3euew1fiw6p7DsAqobhO4fkm7RFPBcHH1wW_7JSJ_48N-16VOJciZeeQUYWGaMSmnuaAjDx7blkJdc3u838G8LCtPgeIZ8OQuNqdCdpkC8Pv5Rn61oUW9SkZhRtcKuln9RpTFrKej5HHV1xaqr1zaAjxsyU8ACUFs5tdDPtUpheeubRRQZiHn8j4NiyOzSEv7lA_Cxc1H7XpDhHBDUk-8Y-HCUEmHHYjbacXf36evCYTq52Jkdb7i_gENpa67BYpqG97F2UouaOsVGFYWtxiLg0vfDMXmENssczwl5CLTzxwr79VUbAeYru54-ZF42e-5pTCqpFTugFy7mooWhuqGt5ztGmGn5hZ8ZmQtxKFrwcQR1pCnW_FxIRqEIadXNay5Bx-T0GSUQ7BkTQ1k7rDo1sTZXRHBOd82e5oBM1oEwVLVXY3t-BG0Onou8z3LL7OGj23x8w1vRjbFtg_Jw2_2x29ApX0OlHgORShgD-62DhYUnL6eXCbr0wDFOZqQlB8R6Bci1W__Gp2hIV0Wwd0tE4Nye2Ts3MfHuQ0vyWls-T3GXNRA1fNUsAAiWysoLIsuNmHV5amZMPtjvqZKFFWK0uvab9DVPkaL0aNXoS1iC-Zehx9MJmuyG10-XbD__iQyA4wf1XLtyoizeokPR_YiEja3UZ_mlykWEoz0-FmESDw3JRPJmzqcx0bgVyUurBahCOkBnfgBYD_JDDmHJQ_-7z-HXsY1excYqAMT5NVd8rGGeUFlTlNTlVaXb84H2egPhUE3TDdirBH3IKdGMadm4bCTXOJX0_X4x3At9roS_8I2uwyfi4sftNLsPAUAojCELPxCzGOaX8-oCbZr4crIGCNbsqiOmJbEa3gQtUOsuXmC63UV4BWi2b3v7gexpkebd6gFl41UEs3qP-N-Hec0ZDiotGrE_cSyCtbC1YbozCunJLqtlAl-fzKzZkC6_20s7CaOde9liT1kzSuZ8zoanCrkNtf5PjCFS_5X_INtg95YZyLbuFK4I9BBQNd_QNoJf-3Xp6jSSDZODzqaVEYm2S_laoqM8xWsV0GKA2ndvBTFouo4hOysXN9H0b60LCM7GnwCmb5Ijbz0Bti0UX-7cXKCABX3w-cmx8pAZQyHnaEDZTHCbxdpmTWMU9RNa2HO89cFMomh1RsxHWeyoKxyP/download' --output-document 'images_001.tar.gz'"
      ],
      "execution_count": 9,
      "outputs": [
        {
          "output_type": "stream",
          "text": [
            "--2019-11-12 09:57:57--  http://wget/\n",
            "Resolving wget (wget)... failed: Name or service not known.\n",
            "wget: unable to resolve host address ‘wget’\n",
            "--2019-11-12 09:57:57--  https://public.boxcloud.com/d/1/b1!TsL2pRqIws1s-owYk3qAlfdGEky-hLy5hTmbrZ00m_kBKDz08YA2Pde7gBLmzG9Iw_GJHOXHPr2_LxZRooJjNcdDT1AqdWivCxT34xafD4dUHp8a6Iia9KFmzYLptp6OiQBQhKARJHb3yMku6DuoRK3euew1fiw6p7DsAqobhO4fkm7RFPBcHH1wW_7JSJ_48N-16VOJciZeeQUYWGaMSmnuaAjDx7blkJdc3u838G8LCtPgeIZ8OQuNqdCdpkC8Pv5Rn61oUW9SkZhRtcKuln9RpTFrKej5HHV1xaqr1zaAjxsyU8ACUFs5tdDPtUpheeubRRQZiHn8j4NiyOzSEv7lA_Cxc1H7XpDhHBDUk-8Y-HCUEmHHYjbacXf36evCYTq52Jkdb7i_gENpa67BYpqG97F2UouaOsVGFYWtxiLg0vfDMXmENssczwl5CLTzxwr79VUbAeYru54-ZF42e-5pTCqpFTugFy7mooWhuqGt5ztGmGn5hZ8ZmQtxKFrwcQR1pCnW_FxIRqEIadXNay5Bx-T0GSUQ7BkTQ1k7rDo1sTZXRHBOd82e5oBM1oEwVLVXY3t-BG0Onou8z3LL7OGj23x8w1vRjbFtg_Jw2_2x29ApX0OlHgORShgD-62DhYUnL6eXCbr0wDFOZqQlB8R6Bci1W__Gp2hIV0Wwd0tE4Nye2Ts3MfHuQ0vyWls-T3GXNRA1fNUsAAiWysoLIsuNmHV5amZMPtjvqZKFFWK0uvab9DVPkaL0aNXoS1iC-Zehx9MJmuyG10-XbD__iQyA4wf1XLtyoizeokPR_YiEja3UZ_mlykWEoz0-FmESDw3JRPJmzqcx0bgVyUurBahCOkBnfgBYD_JDDmHJQ_-7z-HXsY1excYqAMT5NVd8rGGeUFlTlNTlVaXb84H2egPhUE3TDdirBH3IKdGMadm4bCTXOJX0_X4x3At9roS_8I2uwyfi4sftNLsPAUAojCELPxCzGOaX8-oCbZr4crIGCNbsqiOmJbEa3gQtUOsuXmC63UV4BWi2b3v7gexpkebd6gFl41UEs3qP-N-Hec0ZDiotGrE_cSyCtbC1YbozCunJLqtlAl-fzKzZkC6_20s7CaOde9liT1kzSuZ8zoanCrkNtf5PjCFS_5X_INtg95YZyLbuFK4I9BBQNd_QNoJf-3Xp6jSSDZODzqaVEYm2S_laoqM8xWsV0GKA2ndvBTFouo4hOysXN9H0b60LCM7GnwCmb5Ijbz0Bti0UX-7cXKCABX3w-cmx8pAZQyHnaEDZTHCbxdpmTWMU9RNa2HO89cFMomh1RsxHWeyoKxyP/download\n",
            "Resolving public.boxcloud.com (public.boxcloud.com)... 107.152.27.200\n",
            "Connecting to public.boxcloud.com (public.boxcloud.com)|107.152.27.200|:443... connected.\n",
            "HTTP request sent, awaiting response... 200 OK\n",
            "Length: 2008470987 (1.9G) [application/octet-stream]\n",
            "Saving to: ‘images_001.tar.gz’\n",
            "\n",
            "images_001.tar.gz   100%[===================>]   1.87G  22.6MB/s    in 86s     \n",
            "\n",
            "2019-11-12 09:59:23 (22.2 MB/s) - ‘images_001.tar.gz’ saved [2008470987/2008470987]\n",
            "\n",
            "FINISHED --2019-11-12 09:59:23--\n",
            "Total wall clock time: 1m 27s\n",
            "Downloaded: 1 files, 1.9G in 1m 26s (22.2 MB/s)\n"
          ],
          "name": "stdout"
        }
      ]
    },
    {
      "cell_type": "code",
      "metadata": {
        "id": "Cbd5LTzNArfm",
        "colab_type": "code",
        "colab": {}
      },
      "source": [
        "wget --header 'Host: public.boxcloud.com' --user-agent 'Mozilla/5.0 (Windows NT 10.0; Win64; x64; rv:70.0) Gecko/20100101 Firefox/70.0' --header 'Accept: text/html,application/xhtml+xml,application/xml;q=0.9,*/*;q=0.8' --header 'Accept-Language: en-US,en;q=0.5' --referer 'https://m.box.com/shared_item/https%3A%2F%2Fnihcc.app.box.com%2Fv%2FChestXray-NIHCC/view/219767703471' --header 'Upgrade-Insecure-Requests: 1' 'https://public.boxcloud.com/d/1/b1!kBFfPdqgwu1O-H6kgAAmV3Y97e_wviJyTWqFzCVixtlocEbpxy-yhPAMnEav6IX9052HygUsZ9GDoINnNIeZOQ93l45USYy_sZjsjvYi0CAWNwAHEljX4y4cyWP9BbQ9CZGPRVavzxHIwfyuoZpO_btz-ZAI8rWq0L1wNRmbYCuVteHfrY1BwJ2zYV_YOx-O9NEC4sB4FlLrh2rwwWNjPcKru0dMXpljZYJ4deT5Bjzj-FQb3e0jFGwnTw_CEXmqlg2AByrd59qm9_50UJYtBPVSL5g4dLkAAzmrXj1HfC-JAu6hTmvoFOHTqfto2z2wJ96lHqmiq47AUPakgRObdEcizZP-LuGTRpJGFa33bPA4nLGWPHds-4dp8L3jf24Akvxa8nEWSuuCyGkYvLiCREFl6GGa1QvRMYCaP1dEhlZfUa19SV5hKCKcvh7Y-qxs-Zu1gCUId5-2EITX0yb-1x_IgMr1PdwH9pFtl-WCcF8SvPamCSCUgZiNqAcik4tlE4r4q4-tTxA-vYLW-YNFDjr-5ZQd3XQh1HFwif4PQHrudxF8GUSRYXVMTTfjEOihsTNJn7H_nHeibm_c64QCollK5UcHgCG5InG7vGlZldjSR3LWOUwNfDQEzSX9f_QyBqBVxmG1PP3ydn37SKvbT_rRVqN56Q3SgsJlZYSI68_Oz1txtT3h1Ik4TyuhEuYhMVpVFMEm0B40Gcd2FQuTdlOPHdTSrw5FiIjrnsD1VIKJ33GseNiZ75PbEsHsZU4BnMqaJBBriH5Y3ukxXldmO-shRyKANqEoiKNffOlNVEkkoM54NoatduMJlAAqMLIuftRF0D830cKREyst5Xf4CeOZJ7SC-F2o1ltCu0titp1MYtEGkj0SUOdMz-dK_nJFQ5Wzpg5y1hIzL_-W6sEUgoBJqgIeSQO13cV3eAcuzO1_-Y1B9ol4wz0-tbI7CQN3Cm8y4-wU_9K0fiGHKZTaZ2n28QiNu14BzMBDYokUFn4jITuJ7-nQU0MpkKnOCpUhBitC9mVp1rSy0uTjAb2nNu6qqlffJLSbZJxuPqWUm4M_LmCiRa9MtT6laWmZiKCo3uYoOw_3nb7_70ri29R6haPK5o0qyAHbbJamZVXBVvtEqTcko_YxcD34Xz_iz5a2HSuk43e982jZdRmg9SREfHn6CMlg62M4-SYEfzMM76bECt6NRDRYKdItzWoWDHfiiGCqsrKo_OC12i2OJGxpYVzKgcnYXZkf9q8D2wcirxlafRxMQiDutpgVbk5IwOqsCIA_JUk3wNim7ODLatqKNBavgzsHaBjl9IUzGS76Hmbx/download' --output-document 'images_002.tar.gz'"
      ],
      "execution_count": 0,
      "outputs": []
    },
    {
      "cell_type": "code",
      "metadata": {
        "id": "hKSzAERyA6tx",
        "colab_type": "code",
        "colab": {}
      },
      "source": [
        "wget --header 'Host: public.boxcloud.com' --user-agent 'Mozilla/5.0 (Windows NT 10.0; Win64; x64; rv:70.0) Gecko/20100101 Firefox/70.0' --header 'Accept: text/html,application/xhtml+xml,application/xml;q=0.9,*/*;q=0.8' --header 'Accept-Language: en-US,en;q=0.5' --referer 'https://m.box.com/shared_item/https%3A%2F%2Fnihcc.app.box.com%2Fv%2FChestXray-NIHCC/view/219770039352' --header 'Upgrade-Insecure-Requests: 1' 'https://public.boxcloud.com/d/1/b1!mLV-qdRE13V4u0yAw-L7e0W4f3wa0IeAOD7wPBO726zmPlrnLxX59Mx_FspA1n_zUBnG6Ji5ZUVmKU6VMSSiJWy_mgHgi2o5ddTRR-UgMgBtJl3LHGiH7IJQFSoQZDVTrJ2V48eK1GF4APp4JPJq-BGkVpGiolTNBMpDmcAOXMb3Za-DEndggP0dzyow8Dit6oKreAgHdRE_JlIrIh_2Ydcb2_vWhuw-H2wKyRkCEkWjsfGnmMxAQfJtoK0zXB9vsZ7TeDaKXyypCVYoEVk4wY6KSZ7FItTNtTP2d_yyO2atTveOr3ica9GvLQVtLaJucfK37cVoypGBDUnFddJHTEIqeUofJj-68bnkNR1Xbdlr08E8zyNfSuNWsy8NBsvAKoeP0bhBuGbB1pD3NOUenYZrTty5htNOfRReohBemrjuu2Orj9jdfPnSBXojc9D2QZICJ5yhYqIXLoFBU6aveNjoYN8RYbodjgr5EJzEYVlu2cP_0bZt2HMejQv5m0ltdhKxQ6exxSHa3MMt6iVJ5cUSIJoCd4k5S3Vz6Afx2glN6o9Ecb3aV818JGcCdmkkecQmVnAElBA1aRysXXaOoBF90_XXAbog12FpF98TYBMrkmZ0OzJuotCRy_peYFL3hkuxchGBM20_REHU2eihZJVTM9iOH2Wzk2DUCZp2y_-t2TB3JHBNW100Gv5VHBbMOlK-_BjhU-yg97HSuKGb_rb_4XIhKkQT9a7jI1B8K8Znu5sP0t43Wzbpwg4RSjFAG7-8eYA6MmQG9AMAn4zlQMxvIIVH8928sNkg5Ytry9W5PEQmpBylcuCENdmTJbCqJs5e3hFtzl7LUE0A0qzwqbW3soeDZxJ8dAdJm7xzomYPAbx-VF3CvNFCqA_u7YydsXL4bmvAl8gSONVp1Ev8xYz1rOAIL2qtmAUtuqNa-rFqnvVgvM5v_gpPoaP4MNIh8iTtaTrscvP54wcpaV_zbTXa1ARpoAmGY5Vu8smc3xJ3blFFgvQnqOBJ_GX1SQCAPOxCGLofT5mSdevQaYKHT1Oj0ifYCQpfrh2j_H2Z9CpDyeyc4pIFzE4O5Yef5NemMiUt8FtBf_dUNA1CLDkLAsA9zkZ3g-5D851Vfm6T-iwC-eWbVIny_M-XiHkDdl78DVM1CuO1_fsGvsYW6ua6dliwRhw9uWp8k3n8eCHt8zBJ9jLu_v2rJziksEE8kM2-CB0TaDt44vpHyQZ7gtMcfPKJ8GkVTbHu-hWPAU_Rr-dyHnB5tyQgdzqDFf53ybdJj8uRGUbq10nebr2VNCYPCFL_iAgalGxbMOXR6D0IqPgM/download' --output-document 'images_003.tar.gz'"
      ],
      "execution_count": 0,
      "outputs": []
    },
    {
      "cell_type": "code",
      "metadata": {
        "id": "-cH3rcq_BMAh",
        "colab_type": "code",
        "colab": {}
      },
      "source": [
        "wget --header 'Host: public.boxcloud.com' --user-agent 'Mozilla/5.0 (Windows NT 10.0; Win64; x64; rv:70.0) Gecko/20100101 Firefox/70.0' --header 'Accept: text/html,application/xhtml+xml,application/xml;q=0.9,*/*;q=0.8' --header 'Accept-Language: en-US,en;q=0.5' --referer 'https://m.box.com/shared_item/https%3A%2F%2Fnihcc.app.box.com%2Fv%2FChestXray-NIHCC/view/221185642661' --header 'Upgrade-Insecure-Requests: 1' 'https://public.boxcloud.com/d/1/b1!xDIguzgwTBKijAsl5YcWppl5FoW2nXwDNAmcL8Us2Qo94v67xBzoktEYWMIdmGmaAGlaqOH1yEa_Q--4NbNSwgBhN7ZH5yyl2UAf39IAfXFO-0nJvctuK9OH4YTKmupzhL7jndfNVGq3DuSCMrLVbiYG7vV1cNSMURBMcR62Rwy8uO6tQ8DZw1QkbPcWaiIjkt_hsq68PA5XleMPWCdXV3ZeSv08gUAykO9JbR3bvj3DJzubwfDkJkxdkARXj1QcGspDJnfwxEx4ykQP4hwjSbMJQJpMc4fyksxstYoapGZXp4sXO9CtjLBVM267NnveVbYpt69eLtfb9O5iI7P62SCmLRz-V3eLsj-N3VJePI9Y1teBThSMoczeBlsqN0oExhJ_E8XFVGEPBlBkbdZWuh3YwHlcqECaev-UFixAn2CJEW3zkBM5gdLbVBL-hh2v5CP2ZrMgt2-ziA1q-0_b1eb-Q2OP_3sWUc_rgwVTyrwth9G2SrKIMY2qbMj6dmek_L22CuP7hy-YN2NbTIGXCQ4K9hyD9qIzh7kzuR9OO2RfgC59vrWBYDnc_5UTtvTjfB5zuZHRWpsoWrYqJSD3qsMPnUdpPd2Xgxrhsu04LqJIBlUwIizsV_G_JmboSgDl0x3Ofgd979XMMRrhffunz9txkJ6ReYM36fXr8usWyN9kb2QsTiTT5qG_dW_JwS4aIB2H0cc31w3Yy5ylEAaueUbBqAsGNpdnwCJl4iPC4ns6XkNg1n9pc79fxq445Vv7D3bukhkhqHxPuD8UR8PnZzwTVncPJDRexZEmeArVOqoNheaiM2IxQHyQUiA0v78f_SCHqnlwOYLGWOFbWqFjehdN0mWH3HMn98WjvbXrm04gs3pbVsBX5jLJ9PB5RamKaYxIItXf4kD-_yLnc97EMmvW4MtK48BGssBfR0pJMZeJcMhHJmvUpRbPar-kCru5GPC0hkTX1QSWnCpXBlmV01WY7jZBcBCmrSulIBuJAPGTrTNuDr5Ssq6O33zBe40gNuB3xwPxaLL56E4Q4IzNtZK1K6wvl95EJq0Lo0j_tYEWaEm1kgPYA5rZX7VsCh_2XP3HRO8HE2JFbIOfchTk2Zm4w9dzB6lRaKKMJnRV6y4O7g__zDOVK6dgtbgReJc3PElm6Dxq-dz2J2gDNzyvvuUwv0doo9wsL4qqRwTgwJHHYsB4nTAw8au-LKwSJ-2w_0z5EbRJ6kLb1XuzHydgRjj39xQI9wesYZB-sVtqB4TZfBtl2KYNdRhlC2yzL24rPrte_i_TaNehvFh2cJT8t26mO98lDomdpRNIFrBV6LDh/download' --output-document 'images_004.tar.gz'"
      ],
      "execution_count": 0,
      "outputs": []
    },
    {
      "cell_type": "code",
      "metadata": {
        "id": "QCNtqdNJBL3X",
        "colab_type": "code",
        "colab": {}
      },
      "source": [
        "wget --header 'Host: public.boxcloud.com' --user-agent 'Mozilla/5.0 (Windows NT 10.0; Win64; x64; rv:70.0) Gecko/20100101 Firefox/70.0' --header 'Accept: text/html,application/xhtml+xml,application/xml;q=0.9,*/*;q=0.8' --header 'Accept-Language: en-US,en;q=0.5' --referer 'https://m.box.com/shared_item/https%3A%2F%2Fnihcc.app.box.com%2Fv%2FChestXray-NIHCC/view/219776556743' --header 'Upgrade-Insecure-Requests: 1' 'https://public.boxcloud.com/d/1/b1!Ab-l3mfFrF-2tiAXYHurNWtkGULmcs3tc0gc8nuuJanghPiGsnPUVEUdMbq9uLILifg-Z1NSxUtHyMgYA4LBV9yOPcHtHqOa-gc9S7hjhev__HJN_oqd6blaDf2oKwayUdoVkwRjKczEpnF0GT6KhnyCXnduinotcPfohIqT1HH0fd4d-uC8CBCRGDeS_-dEMy31uHMcCkf85quVJW55k6hBZ_fTFdBXRQMqdsjVArDcIeD9DawW94aArojPxnnAoKTxIsAq1vVTA8dZdLhkpu5K63edvod0osYWKByA9Xp_D3BzQX2lqQjNaE6_CDqp1yrhNmpuPqXQQCSqh6CnZXtctfxG7kP-veEEgrxKvfd9z3rmSLcrn_e2uAKsXgf1g_FlprY3tLCcMTTKxXaSC6gK7wDNk-aLXmybaTJJxxFMiHPzT1zoLKVcl30CvSCB0ebLUR6NWGXNkS3i1nDg7M9KoS41Lrk0e06mED-LvM9vuu2L_bu2kAJeMJjmOzhdTzg0MC4aDEPokOTdp1uFeC9_e_Uq719hX7XifH3U2TOn9NwT-Mh2imwjk9uAJLaA5zYS4zE6JEkOD0FLeZvxvsKGUjZ599bbSrfcVAEyFQE5EQOtn9kD4qDW9luhIZWvbiYDFm6ek_wi2iF77dysskLVqcIoOjx-hYu93FEIGSm5kU4zf95RNgj50mGLvAaYD6t8lv1v-YpLT72k91N4NmcV93QQyxdhQDVWrvwr-xG3nnYSyx61xVma-LZ7FbGvTm-hzK8aQMmEYCF8kxvPA7ruQ2HKsnMYis-zVGokZ3Yuh6Avu-SbGMAkzKfbSWbwKrXLqtfjwdd2VjeYi5f1e1-yD4ltDwRcZ1qQ3nluPAoHf0M1nEAf9NAX_ID7J8kdDjsezvj_WEr6JID2wQXXNEK61wIpnNsGnpQeymjrWMehXdIR-9plbE5OBWAsIIl8KTHMnjTHr4FCeodMY9r9RKm8ESrtQCoCBrcRmKgsF7RAeaHVJfOIKps1dTpwU43pPBdcxXCcAzG4v19Fgp27dnyCpDT7l8xqL3vhVsvdp8tHuAvlyKjLDk-BTrAlXE8Z1t2hk9RuzvfR9guszPlgJqgIpjXJWWk33cT0jSnBQrStXQ0mVZO1npVvdPTeJkM-OtkHvgbOFkzWAu0sfspWuABNb09TYlm2qxYOim6gRGmptQA3kOK0E0L-HdqPavKF477TYWfRtY0LOSYgFx0cqPyA49kuGEGKJ8m9POWoHrS9fMMyvn1YHybpqrbRYfWKWu0fjiyCq2cnqNjhxMYQ9jyR1iwTofUG50z_0bHm15Gh/download' --output-document 'images_005.tar.gz'"
      ],
      "execution_count": 0,
      "outputs": []
    },
    {
      "cell_type": "code",
      "metadata": {
        "id": "5LR6XZnCBLhm",
        "colab_type": "code",
        "colab": {}
      },
      "source": [
        "wget --header 'Host: public.boxcloud.com' --user-agent 'Mozilla/5.0 (Windows NT 10.0; Win64; x64; rv:70.0) Gecko/20100101 Firefox/70.0' --header 'Accept: text/html,application/xhtml+xml,application/xml;q=0.9,*/*;q=0.8' --header 'Accept-Language: en-US,en;q=0.5' --referer 'https://m.box.com/shared_item/https%3A%2F%2Fnihcc.app.box.com%2Fv%2FChestXray-NIHCC/view/219777758783' --header 'Upgrade-Insecure-Requests: 1' 'https://public.boxcloud.com/d/1/b1!gi0VjKRklkfO6pM2yds22Rkmy45zR1GGI0TKAhW-gMW5KRdDby9ijsZd52i4Id5D-r9_Ruk7f_lWomOKdrJHohdhjw_wz841olmkwx2FDud6Y8inzre_ifyhqHTj32dESHL2fN6orhB2m3PTia9vbt8QQdtYtvM2gzsLvSltqeP-0t1Qcjv1mjmAsgY83rBT_rlYDbI6GP7DNiOg8Yau7J-HpdlaSxDde0CiPasd8kxG4aJiQwaqHChXWI_EsOYpOVTFPRbOXt6tKWYG8fk9BwzpnTo511lMxoVrW_msN3YO6KNokjJSS0Ap2Z0ssM12Rbr-lhu2Ww4etuyYnuiL83rV9iwdlDXuvBooIHCVKeyTi4nawOsdy3mtbz2cWkmP57OHEX29wy76rxS2y7lHp1ELMM3l_En1Geuw3Rqt7nVSdVaTCeV3ZXNWmjRLC8TpyEBD7Y63aO-PixiJCZaVoRcs6SXCe66RqlKsIZeA84qIQsIISZQlS_CcfSRLSGsNpUNRV7nifCCIHvKkVu3cV96S8XcH_ud0UGt-I4hOGZxJGQ24h9_SAhAoGoiTqk3fb10eR0eGkiHGajSzJncfhqzJFhR_hWkIoXu4PMoBQDXqW4usFbVdWqolFwsyz0gsAviWCa-sle49r3Uq3FAWE8Znmk4ni6MGs59cUhU9PNFuzU2DnH27CaRbkB-aqhE213DMVgE2YKKRllcxl4xTSi_Br7KEXk0nDRov7SjHh5bQdL4LO3J6Di1n9KlmsWQPfYwsG9mEmw2Xh2VRdU9lrUC65GFhYNBRsgyi1pHXt50YV2Y2ovp6ETHeD2ovm3kX05UA2DyHVUhdHHqoGjJ0Qj801AR8iah1Vct63w8wK2KV7l6bmzopV4BcPHKstlU6V-Ko1PYEY30WzDgTnj0YmhGsTc7qN03CLoYHGn2w19PdUeGi5aC9-oVVSiTzekYAXC1rbeY143e61cNtx63bcRmKwnBWS6WYy7qn8EaJxcgzMiiAl5eHy6o0H-T1bqTymcxXZ0Ef_xwJdp4QjHbKicRzYJBjJMi3khdp8E6fORoAEl3iAK1cef2Lqtgd2MZdo_dz1oUV8PzaHWX2x7t6OtNrr0aSoM4gZ4thB6CTE0s2ONxRGHuYuz_FzxyBO79-CTCdSxZm8fdOeMztHU4K04L1N8nd9LxLeFo-BLqyZB1ryRQMpZTeQV-P79qVt1w37BzZasR8DIKKkF1ceJN2NA7dgprujhAzJdCHUsqSTvd9COq6L2CD3k_4qWAcZ9kIzeOTffQJSNjmzgEYIhwTH_vntY43Y7goBKvsz1GZsdyYEQ../download' --output-document 'images_006.tar.gz'"
      ],
      "execution_count": 0,
      "outputs": []
    },
    {
      "cell_type": "code",
      "metadata": {
        "id": "2swfgfE5BLdJ",
        "colab_type": "code",
        "colab": {}
      },
      "source": [
        "wget --header 'Host: public.boxcloud.com' --user-agent 'Mozilla/5.0 (Windows NT 10.0; Win64; x64; rv:70.0) Gecko/20100101 Firefox/70.0' --header 'Accept: text/html,application/xhtml+xml,application/xml;q=0.9,*/*;q=0.8' --header 'Accept-Language: en-US,en;q=0.5' --referer 'https://m.box.com/shared_item/https%3A%2F%2Fnihcc.app.box.com%2Fv%2FChestXray-NIHCC/view/220610700915' --header 'Upgrade-Insecure-Requests: 1' 'https://public.boxcloud.com/d/1/b1!R66goN7g_xaUSp9SR42snRqKkjWL5-zL3NuVtJm48JEVhO4m7b0bk55LgoSeZ_3va1UvVrCfNOs2iLWKxr816m9XD1y0etcKJEcKwkRP5T3ov4lhZOomq5NCYHy57_HIDDP-Q33ViQ6JFnPWdUGe0krk-FHySAnmlYSv3JOLlYwRriSXxMu3Jm9BTh42C7zLnuxnOYMRnMFnXQQHCqhWJCVIOLahN8IfyluWMwNgICR4SX43n8J3K86eYQBV-PmZ2mFo4DLHUSziSjoY8d27nfXb7frhbVU4IP0aLxswZ4qcWtuANhcEXUkPwCNPLTJqTaJAvsgQuAujDe-Di2NeyENxaa2pu-o7DbDaR1OHJEPlAonQ7P_P4-wsiNnvxVKLBdiDPQBU_N9NMAA7dqZrwgzoqZCyLxXwN0kv_2NlH319ZRqjS1PKUYwRSekuYPbm7Y5y3-4SvDn-zIw0FQWD2z9rnxEtJ_sVHrKTIPlAkB73IHV51jhbABQlDEeL4fhSMHvL90C6NXf1gZJiHQYZjam9XsKDHbbhgoZUXXMlybOMMUZk-9jzVQdFnh_3eCmVJWo5TDXD1SR9TdojPcJcoypTB-N4iyeddDh5MreQbFbTF8Q1bCop2cIngMWer7l-t6HizrpPDPdqFf7Q10sCvFiy5qivFSvo5roK9RobvAnZRXDLWa82gdLggzSZ7p6HnlSTWuNhWJyZHLeIEQp9TT63ZkBfn1dSUjdiopzHhCF8o_0nQTnqxYYfBTMaXkP8W3UNICkk7XQAVNhkhh9I64XobLKM6oKyUHSEQq8XmwHSpWG1asZrUaf-SMBaMyVxRpCOO6vBdaHtj21Vx_bWB8ktuxtCsgNzXR70N6fOhybV0B1DoO04GFIRF9cQGOvV2mxn9ynBKwLhwCw3cb2Slq5Lgeu5CmqoJVzRh91CHUZHSxjw4IlJy7jEz3etY6mDOgSv1ZYP6eJXfvCNXEKYfrzHE_TaWPmu9WY0UWbmeAO3PQGlR1xy8jbf2bx_920yVKiHmMVncxYkS1ZEEFYZG9zhkxgYJVs1kSW8w8fvAZBnJZeyv5-i5y2d78oizTyfLTz_jhqujPN8MELdGkhW_4iFFawphIYJty55e9ipb-RcR6IggBKk-LysTK1lQ0m8M5GAQRSm1zkeFmiQQS7n47Yl9jB8KMEz0CDP7omsFjY8hY8yMImaS3UtU4V9hrv0ktjCubSd_ThHl8-1YZ55CKKAXR96BQ1lHfgPp_el1gHRGvbWr3BFs9ARKeJ_2QpPSUJZwKsraBLNkgvDZo-Vx-XD1C01w-oKeVUTnXn3Xuf-dg../download' --output-document 'images_007.tar.gz'"
      ],
      "execution_count": 0,
      "outputs": []
    },
    {
      "cell_type": "code",
      "metadata": {
        "id": "_I7FUo7GBnU4",
        "colab_type": "code",
        "colab": {}
      },
      "source": [
        "wget --header 'Host: public.boxcloud.com' --user-agent 'Mozilla/5.0 (Windows NT 10.0; Win64; x64; rv:70.0) Gecko/20100101 Firefox/70.0' --header 'Accept: text/html,application/xhtml+xml,application/xml;q=0.9,*/*;q=0.8' --header 'Accept-Language: en-US,en;q=0.5' --referer 'https://m.box.com/shared_item/https%3A%2F%2Fnihcc.app.box.com%2Fv%2FChestXray-NIHCC/view/219776273384' --header 'Upgrade-Insecure-Requests: 1' 'https://public.boxcloud.com/d/1/b1!kxGQNr5PUWgJPH5i49tzAlIYmJJmYhXiMSJUY944KkxIMqSowEvVhjXVG1IQDjkZsxIQWrTjfuQK2__SiTcqdPmHK_jLTSmD_3iao22V1T2ImkAv4exdKN7b0zR_ZlMyqOipidfTR1C5KDJ-HmuMaRhXn5za_Ausy4UtV4viYsVKaD4W7Tb0i1EXDorBQGA39z2pikU8eVFysAeqiTZZ9PccDbcaLi7RjtwE92ciYgSk8wnp0v8gP0NtNYo40yfzSKNbRde71UbVrl-8cNf0ms8zUS4sYsddGm9RChPCrWtjdsdllOQqDnbVR1QoYry9G8DQmJGeWuJMDWtAnCfNgVPF4iTiz_COexvysbTo2voiEuQJrmW5yZLu_ddJdzJf84lriOReWWgvi3NHR9dZxlVt57ncSk3aJ6uT0S5HKzQXD-aFx0ZNrcS-xUwLd2QDgF9rYMvAMO1YmkJ6vrJbaR3QKRoiAeSkRAd1eeslwmpHc9ar4qvW2WDwj3VQlHEMa9dmycJmotZvD9aEnY1wqv5SuzV2HolbPurxvCDBYg7368-RqoBsx4avonTwbGOOvj35AmdfMs-EFIsCO6IlWuRwKOig3ujKJGCPoDoufyX6wueTQiOUF8TK_DlB_yEP7SgBbZVPeU3kS-5FJKc96ELdNnQ2S9wK7CVtBWvKPRZc3j4fAxFBRfE0Gj1qbDexQZbWQjnbPG5ir7HXuXV0G6dExSTW97TrgwB1zUR2rWuD56lTSD_JqOG1BBtVMlaUccKQs0lyrEXN6jzDb1X2acSirrDWEQIknUfJcNzpsiBlsYb7qnjk0HVHranzg28H_QMSBmhPDizjWvV3UAhmXKjBAilTnW-nCmjIKW5Xuxl6tENY2diw-htH86_FRwWYqWJ1gzze9MG0U8fvz3DJw4PXD_jckHuCTKtCLq-4a0tDAx9_KdtxspZ9tZNSCrfn8mpLhusu5CxVdo1Vwb2C1ssaV8pMaaKfvtSZwQjd9OFyPf9Sa4sT9NWhrE5JfqH79WZqjUoyimAs9aVtTQSHa-pAWG4keY5QnOEwSGhGgqvRX6_7dy_9H6ncodxqooUd9yo3Fo8wIhQQmGtPv8rYHEDp5SedqxafwOaK5Ai-mY_sg35KgKWqHAy97C7UwfvLKh5sEGgHX5rzm6FJmmVDu-UrtUIOOsL23_ukzlfH_e66senrntdFLF-f4aSbgBlgxfB9jVRQ-nDszr0I3_O-pnj2m8Q-jvMyYsP1mmeHsuwqlhQ2O8hIUqdfnZ3TWzX_oSGsxgdW196f23-97t67GBGt-J241HUJY13w3bsjfPkB/download' --output-document 'images_008.tar.gz'"
      ],
      "execution_count": 0,
      "outputs": []
    },
    {
      "cell_type": "code",
      "metadata": {
        "id": "3tnGCS5WB0rr",
        "colab_type": "code",
        "colab": {}
      },
      "source": [
        "wget --header 'Host: public.boxcloud.com' --user-agent 'Mozilla/5.0 (Windows NT 10.0; Win64; x64; rv:70.0) Gecko/20100101 Firefox/70.0' --header 'Accept: text/html,application/xhtml+xml,application/xml;q=0.9,*/*;q=0.8' --header 'Accept-Language: en-US,en;q=0.5' --referer 'https://m.box.com/shared_item/https%3A%2F%2Fnihcc.app.box.com%2Fv%2FChestXray-NIHCC/view/219782291318' --header 'Upgrade-Insecure-Requests: 1' 'https://public.boxcloud.com/d/1/b1!ycVMCfM9zjDTgFO4G_kIN3zZo3d-UWShvZjcckK9kzdgyIEXF4aM7QMSNKMF_lf1VzQtlGHpH7lRwP58Cne0V-nk-t2_ReqzbvCF2gXcXqRs_MDwU8pCDumzZLX-iW03bThOq55NhZ7FP_APPAO18OXrkkkKtX2-tyIByNLowu-tH1kljyFe8PkNGH6brdL1ULuHdcLzlv0XwOROml7xszX3nEu24wuQpE9zyjWUFEbAhjW61apVa_z2-qctjkT0OPqDxdiL2wbZoupC5L_0lHCKGaF-SUKS_PZsz6YpkYv6icoHoIBJPTT1M9OhBy6buNBX8isHIAwzb4kn-zs5ZsnrumMKN2FvoJ0CKnl_Qq8N5a0UCGUJtwQSGXlOW4jrshaCofM6zpkm95BWBnxkaIkgQuht-5OGIaPbps-rmeto9lZYe_mBLoRaN7Igq0B0Ar8EABXNUuZrYj1kM-chUB7lBtG3hujVpvTLWFcZf_SO9PtnUsg8i2UGViYPqCJ59WSg5nRQAkW_8kWlrXsMMXy0CnYRV-ZqvY5oIuFmymNt4N4-xjJrwb246JAkGIAP8_k3YBEhTyMBTvuUSrpoyaXGca6X3rOUgjKZiJX2IiNza0UnFenD1D5HsYmzncqU7MdniVlTSYpZG0PmtwAVAFrbfzZ7MP_NfvA3SxvjH1uRSltRpQMMLnplS5pO2EFgFatJLGY4UfsYceFfPoSdfDq2_nIKn8azZzMya14PqEdOLDnV88iO5fWNn8VWJpREMJHh2T7k6jW8cnAyyNIQS5iOsbrpC7mOdS6M5WrO3nPbcnQNT0cvj8sb09TLVVy9YMqAU0pqUHjttgWFRPgTcHM9Mwp5J5UphtRZ5SSTsukhaPXVhX1jEQrpPdTHVtt9HJlGdbldjmiPG3f66rlzV0kCtdhRi-W-8fEcVUhQSYhouEUZj48RTSdyTvtS3WDdkfqzyMBW_ZelINtJ1hDCs_UOimwNW7r3ow6U01f0Vge_zcvhpapASzmgLqPo2sFGUvcTJi9yLzmPw7N-bGYFPVRIRFn4Es966M_I4eO2gxIgcH00U3LWDpDHKe6ybU79Mz_hLexo3k_gvaIYE6Q5EocHypTYXG5tKza7_3BzIFBkRbyl0eQGfmLGDcBNbO5W1YwFv56l28f3u5ZJqYhFS-EaWyxCwza6OCmqa9tfIXJVLlDJPIJvywfQ-G9gb7HvSTtyT0uGVoeT_XlVKuYx9DzqKXWhPCn5t7gYPfQwKzVNLFmQvb7bw2ZsYWccItzVFe6yh2Jb3cbL2jlVXCthk5bAORkGOll1GMCMvJdkPnq9/download' --output-document 'images_009.tar.gz'"
      ],
      "execution_count": 0,
      "outputs": []
    },
    {
      "cell_type": "code",
      "metadata": {
        "id": "arww7WWQB0kW",
        "colab_type": "code",
        "colab": {}
      },
      "source": [
        "wget --header 'Host: public.boxcloud.com' --user-agent 'Mozilla/5.0 (Windows NT 10.0; Win64; x64; rv:70.0) Gecko/20100101 Firefox/70.0' --header 'Accept: text/html,application/xhtml+xml,application/xml;q=0.9,*/*;q=0.8' --header 'Accept-Language: en-US,en;q=0.5' --referer 'https://m.box.com/shared_item/https%3A%2F%2Fnihcc.app.box.com%2Fv%2FChestXray-NIHCC/view/219781375034' --header 'Upgrade-Insecure-Requests: 1' 'https://public.boxcloud.com/d/1/b1!5ij5KGArBvuDTi65fu9BrA4stZE9_H-K_cToMREEEFTiu4xptqFa3EbIa8O-bEnQ8p_aGiMvm46PKj52aRwgk4BxOrPKC1YH-Tya2NNuiTzcZ1u41t9TTnK94Ans6AkL2qOGimRayFjwETGi2M-LH585NwVHjG8X6lDxfrxuSZaBE0IaOKHdPnufjY031MgQs_1Q1GdZ1LFSBNlwPOs-0BtTOTOoTYCaUkDzuAqvbqGkkxcyw5hGiQ2mn6NUCucfGZMjZZnUmN0guo1AkQ_3rYqjXqyX0vKDe4HzkvjaF3uvPPaoxikEZlZ6rKvVKJPuBMmzvnk9NjF8yLmJRGToXFikvL3tNV0hZphSoToe34ViZJDtmTFqFDo6leXc2WKFwkoB0nriJKHNU8II_JiTbPWI7D94xNrswbotvbAeDGTwThrr6Ycolnr58u6y_m6Lf-NqMzmb72rTwgzGboE_Ihyarq9AfA6PNrs0xC18Wv5xipunk5XPYJHUm0A_eUEhy1L-4XfC7x-AuZi-WKk40uqC0cZ9BpLPIDJ2U-PVuvQ-UKUMBL5yLHFIxHfmXoqGS-x2Pr92pb_MJkhPxgrXNxMvCWtJlBj-OewgbiHkGXT4pnJ-Abh1Fdw9uwX30aSoXHx_8frEM9ORydF5SlSfn33at9KfEZlPDkX7baiokI-ZpyAU5GgztvoMgxl4Nc_yKNAxc2GJ6jWWc-1DpPUKQVSlzkWAGrt7UIAgs9mPBvgUMVfyrIxAPvJz9NDtpohIp5QR0-WH5J1TuCqdEvnr-wn0eSOoZHYk714k1k_61LYcPY3Efy49jJ-rcra7dJpLeshH5kJt2g2HrSdO4xt0kuuOwgOFOnlG8bi5MsUMt7td1-Y-lC2jUwwLgM_G0mKtAbAGK9dpZII-kGJkfSfdXT4C7y13W5LB81xXIsDD1YM5MQbJpBXYKLe_UUC5qXLRGeT57N2WczIL68vnvTHKqpe2NM9jdx0FMqhFDTS_LyN1I5nuElKDuqaqMWewybhW8xTJtZhuXZKTfM-ccFGqYSMZeKe-U3bxtnSCjlEyBQ6rnISSit9fnFhHreJbtdwKChbqv1xCFLYHoDT-xAZfPcLXaADcD8fa8z_TjPdHx1BUXABPrxIvvhE0RN6XNmmGXcreq_Fl_9CgfpRfNsDjRrG5nkHtvmP2TNmjXRqEVZIQMjUhfDztLSZf-bhaj17rS6giOrCyQGgaI9Yp5u1IDGZHRvn1FtJVAQRGR-A7g3bMr-5WPIanXaKW31cMfQ5r_Y4p1GNIfLKDk1ulLPNTPkrSQ-q_n7M5jrWzrVLqa4hE/download' --output-document 'images_010.tar.gz'"
      ],
      "execution_count": 0,
      "outputs": []
    },
    {
      "cell_type": "code",
      "metadata": {
        "id": "GMwmeNMTB0bk",
        "colab_type": "code",
        "colab": {}
      },
      "source": [
        "wget --header 'Host: public.boxcloud.com' --user-agent 'Mozilla/5.0 (Windows NT 10.0; Win64; x64; rv:70.0) Gecko/20100101 Firefox/70.0' --header 'Accept: text/html,application/xhtml+xml,application/xml;q=0.9,*/*;q=0.8' --header 'Accept-Language: en-US,en;q=0.5' --referer 'https://m.box.com/shared_item/https%3A%2F%2Fnihcc.app.box.com%2Fv%2FChestXray-NIHCC/view/219777519815' --header 'Upgrade-Insecure-Requests: 1' 'https://public.boxcloud.com/d/1/b1!KjjjccyxILRbc3chg3iaMoA5z4c2J-0BUtVBImDZaHpGNG4rZxZmlEd8KPSLCPyFVFs9005eSUWD0avM9H0HFEYMXf02Cxatk7rq5XIzkJrHJ0nyZur_vYWWIEskdep4bVhsX5DgQJ8v34vnVnXKASDfJopZC33gcK31FivMQRpBeTAc-mYjfEowZKB50YAadciistlRArLTSFw0mkAOcoJJ84yrUOa0n0rPxlfNXaJuoifanBvehOYIm4YI0DmtDTZHhr6xM2bOajDAzwz-f9oTBG2JVYeyWWoEqjcZpE0k69iMR2tMoI1YYfBT4TzlktXEMO6TfX1ATdwX1RwqJUOdcKHgfrTHi9JJsZMdMsv4oQeMqzeQ8vvUVAjIYkhuYN1Ib6uDtC8abnK-6c92uL2_LecA10J8H-8uvhSaYLVVryJSja9a6-2tV6ZCyN-T-muQgtBo1Q7SBqyRx9kekq3cFM_H_sYhdrV4LyfCCO_vJJdtA0DTt41fcYokNvI0YhRP_PbqE3mwCIJEz9e77SyN9mnH4E8Bwvispweq4cNUwKZYpLoLpKrmOI526Wbn8ME6-4h4sbBv1-Z8oZHIfa5pC_0Db4GgGkql2Xyu7AOtjiQfmHLaSFUrRe2OFipsg9Bb3vtprhYE2KXYOn_EK_drqz5Jw-au6pVkX7sT3UM3BLXJyaQ0gqS1jTxOkHL4x-x1JODHzw7oDr1mPo34ZQ9QjGXAsh74H1HUd9Excy6XKEHdYOckIHs7w9-YjYOokpKsQoUOLHpV0nnEfREkVOu2UxA9GgcT-UmoTdFr-85guu_1iht3OK9mk6PPqgFB382s_8fNWUsBDwkSXNlXeMDxuvqBcqDeW5kVoF1GHcKNlMyAE5-DLIFzjLfgXKaRnMvZc-B3uAjt3_Qhk292IT8VV9-U-WZ90e3ui794L2rn812KjYqAaOZ3sevAKRK53QoN_CeEZlTV6MBKYTJF-qaX-lUXIN9iBS42-ePmmES_1IRY2l9dDh0Mi7cuT58AMwLBH5czS6YDM2UxuWK6wtvAZ9prQuz6K2z7_ltRu5vZ8YjJEK2F5WeYIDo6EbwCeTtvap-uhg1O1N7pWM5yLBAmOS3sC7KfI_0WXLybrIr3FHYgYJ6f2GyTb6bp_KfWGwH7OlSncQ9cUL_a1N0n9EbtY18DCaJPS2D0g3G10T3lVOUh8tBvk6Sw4slnyyQJ1R8C1QFvL5WfRwarkiQnmyIkOxQ8Sj3b2nYEyixJ4KK-aIeJsLnfaS3aWx5LdlwuGtFh1A8kKyLJb3vYxD9vdNONWC8ChxPlzwvDuXsk4gzL/download' --output-document 'images_011.tar.gz'"
      ],
      "execution_count": 0,
      "outputs": []
    },
    {
      "cell_type": "code",
      "metadata": {
        "id": "v6qX1Y_UB0Pl",
        "colab_type": "code",
        "colab": {}
      },
      "source": [
        "wget --header 'Host: public.boxcloud.com' --user-agent 'Mozilla/5.0 (Windows NT 10.0; Win64; x64; rv:70.0) Gecko/20100101 Firefox/70.0' --header 'Accept: text/html,application/xhtml+xml,application/xml;q=0.9,*/*;q=0.8' --header 'Accept-Language: en-US,en;q=0.5' --referer 'https://m.box.com/shared_item/https%3A%2F%2Fnihcc.app.box.com%2Fv%2FChestXray-NIHCC/view/219778785923' --header 'Upgrade-Insecure-Requests: 1' 'https://public.boxcloud.com/d/1/b1!D7PDTuEPxaM4aDCmndrkSv3hUAiLlt5b6tDDiikb1Bs2bq-CteN3blnvJbzNJUxYCABMV1f2dNVu0I2Vutdshzt_7L3m7SG7by1HI7-IHX2IArtCpqL948jgGHw6-Qw_tdsYEaWWlxboA0b2rSA-roXecixjK-EgIzGonxZ8-OLqF6pkUrlLnpk3n4kq0_6lFruYSDT8gvBk5vi9V6zXo-yGgIxruh-Pb2AtPWtO4ub749WssR3HSPJj-5Regdu8sQatsPa2c3gGxsjbp9cgWNG0X_-Ku3n9mJ36dNHCrPTptrwt44LhYP04RHbUdJBCLYjo4RIrETVGIDFV7lymwhhc0nyK8bxPl9njFyh3nDN7mwmZ31J43MMQV3BeiSpTPxjuVidlWc2e9k5shoG1dmnVxRbk0RiwIu0KjHKQviwdZvxJdOryLz5RxJqPeqFBuVwCP75iXTjaq56nz8Vh_fqK4sNX8-qpY2Jmho-_67AYRY0RuXiv_jPBjThfPYvYpwn-IorYtYHtZLYJfhnNjryTCud6rCargnO3pe7JilPXMxPy0DzzRoB6MdgD77u-edAmCX7Mhzg7QiSmg7nDjBWYKsFKHd-wdOlQ-McT53xT2Y0GjxS5xMUrhDT13KsTQcipb473KccIHSCGxdjfWO0I88UTwJjvNmGJibR08tpF_GVPzuA7dFClNEw3AZzSTZ0SybADbus0O7A57B8SO6fkM1j8oHO1C5wB1S5N8LVYU5z8MDE6nnpeUtmD6bPLxU4ZQo3ApLbTW08gqSwPZHQKKL-vdZkV1k4ZgTANp0N0pxlQsdiqJbSxCAe8rAYbLN3_lpimhkDFSeDeZwKT1NESy-ycuE_8XWTDGzEXSTlqSgoybCSwfwH_Ag-W85aDGrbkFel3bJ3wmyi1ojQFE71rzvCchIt0nMaK5OiKNQHZo9EDzJuuTLqwX8BGOx7Ssumg1uIy62m6kRtuQtXM40tzK_RkuCAvg8JFc2odO9ZNH5JYuulFry4iVp7vG4i2JbtLTcF8qI4vDmbvJa3yB3BK6QakBQXVv0m294wRE6G6pzYyOO3XT8aBY_rXrQ_7R-3U-jrRwf9iwSrCtKnZl5ZoNj8Qu28K_dMH-5pF2uAnu8iIXTB7g1EQ6Iylzc1i5RtnknUJshhX-FrMAonATa6ruL6RfaD_vsZ12dyxl6GmzQwptKKQ5eYZeg37eyjZ3XO5jNIG1fsWSLbKCR3EFBr3IcqF60SwZmGEvj-m9jCwn4XDI-AKeGzcsoYiyhKWtnmCLLYfMAr0Sy4fuMivaKUrn3SsVBEGKROA_Xa_AGyUaQ../download' --output-document 'images_012.tar.gz'"
      ],
      "execution_count": 0,
      "outputs": []
    }
  ]
}